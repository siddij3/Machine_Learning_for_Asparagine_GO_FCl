{
 "cells": [
  {
   "cell_type": "code",
   "execution_count": 179,
   "id": "c5fa7128",
   "metadata": {},
   "outputs": [],
   "source": [
    "import csv\n",
    "import pandas as pd\n",
    "import os"
   ]
  },
  {
   "cell_type": "code",
   "execution_count": 180,
   "id": "1b28d591",
   "metadata": {},
   "outputs": [],
   "source": [
    "def transform_data(csvfile):\n",
    "\n",
    "  df = pd.read_csv(csvfile, header=None)\n",
    "\n",
    "  isSpincoated = df.values.tolist()[0][1:]\n",
    "  isIncreasing = df.values.tolist()[1][1:]\n",
    "  temperature_values = df.values.tolist()[2][1:]\n",
    "  isRepeatUse = df.values.tolist()[3][1:]\n",
    "  num_days = df.values.tolist()[4][1:]\n",
    "\n",
    "\n",
    "\n",
    "  fcl_values = df.values.tolist()[5]\n",
    "  fcl_values = [x for x in fcl_values if str(x) != 'nan']\n",
    "\n",
    "  ppm = []\n",
    "\n",
    "  for i in fcl_values:\n",
    "    try:\n",
    "      ppm.append(float(i))\n",
    "    except:\n",
    "      pass\n",
    "\n",
    "  exp_params = df.values.tolist()\n",
    "  params = []\n",
    "\n",
    "  for i in range (0, 5):\n",
    "      params.append(exp_params[i][0])\n",
    "\n",
    "  \n",
    "  df2 = df[6:].dropna(axis='columns')\n",
    "  df2.columns = [''] * len(df2.columns)\n",
    "  \n",
    "  \n",
    "\n",
    "  k=0\n",
    "  times=[]\n",
    "  currents=[]\n",
    "  amps=[]\n",
    "\n",
    "  for i,j in df2.iterrows():\n",
    "    curr = list(map(float,j.values))\n",
    "\n",
    "    times.append(curr[0])\n",
    "\n",
    "    currents.append(curr[1:])\n",
    "\n",
    "    for i in curr[1:]:\n",
    "      amps.append(i)\n",
    "\n",
    "  length=len(currents[18])\n",
    "\n",
    "\n",
    "  durations = []\n",
    "  n=-1\n",
    "  for i in range(len(amps)):\n",
    "    amps[i]\n",
    "    if i%length==0:\n",
    "      n+=1\n",
    "\n",
    "    durations.append(times[n])\n",
    "  \n",
    "  concentrations = []\n",
    "  spinCoating = []\n",
    "  increasingPPM = []\n",
    "  temperature = []\n",
    "  repeat = []\n",
    "  days = []\n",
    "\n",
    "  m=0\n",
    "  for i in range(len(amps)):\n",
    "    if(m==len(ppm)): \n",
    "      m=0\n",
    "    concentrations.append(ppm[m])\n",
    "\n",
    "    spinCoating.append(isSpincoated[m])\n",
    "    increasingPPM.append(isIncreasing[m])\n",
    "    temperature.append(temperature_values[m])\n",
    "    repeat.append(isRepeatUse[m])\n",
    "    days.append(num_days[m])\n",
    "\n",
    "    m+=1\n",
    "\n",
    "  dict3 = {'Time':durations,'Current':amps, 'Spin Coating':spinCoating ,'Increasing PPM':increasingPPM, 'Temperature':temperature, 'Repeat Sensor Use':repeat, 'Days Elapsed':days , 'Concentration':concentrations}\n",
    "  df_final = pd.DataFrame(dict3)\n",
    "\n",
    "  columns = df_final.columns.to_list()\n",
    "\n",
    "  return df_final\n"
   ]
  },
  {
   "cell_type": "code",
   "execution_count": 181,
   "id": "448e2b70",
   "metadata": {},
   "outputs": [
    {
     "name": "stdout",
     "output_type": "stream",
     "text": [
      "0\n",
      "5712\n",
      "1\n",
      "3264\n",
      "2\n",
      "15531\n"
     ]
    },
    {
     "name": "stderr",
     "output_type": "stream",
     "text": [
      "C:\\Users\\junai\\AppData\\Local\\Temp\\ipykernel_7240\\4097784621.py:23: FutureWarning: The frame.append method is deprecated and will be removed from pandas in a future version. Use pandas.concat instead.\n",
      "  df= df.append(transform_data(i),ignore_index=True,sort=False)\n",
      "C:\\Users\\junai\\AppData\\Local\\Temp\\ipykernel_7240\\4097784621.py:23: FutureWarning: The frame.append method is deprecated and will be removed from pandas in a future version. Use pandas.concat instead.\n",
      "  df= df.append(transform_data(i),ignore_index=True,sort=False)\n"
     ]
    },
    {
     "name": "stdout",
     "output_type": "stream",
     "text": [
      "       Time  Current  Spin Coating  Increasing PPM  Temperature  \\\n",
      "0       0.0   -2.910           0.0             1.0         22.0   \n",
      "1       0.0   -8.220           0.0             1.0         22.0   \n",
      "2       0.0  -11.900           0.0             1.0         22.0   \n",
      "3       0.0  -22.100           0.0             1.0         22.0   \n",
      "4       0.0  -31.700           0.0             1.0         22.0   \n",
      "...     ...      ...           ...             ...          ...   \n",
      "34321  50.0   -0.568           0.0             1.0         22.0   \n",
      "34322  50.0   -0.741           0.0             1.0         22.0   \n",
      "34323  50.0   -1.110           0.0             1.0         22.0   \n",
      "34324  50.0   -1.110           0.0             1.0         22.0   \n",
      "34325  50.0   -1.450           0.0             1.0         22.0   \n",
      "\n",
      "       Repeat Sensor Use  Days Elapsed  Concentration  \n",
      "0                    0.0          27.0           0.83  \n",
      "1                    0.0          27.0           1.39  \n",
      "2                    0.0          27.0           2.81  \n",
      "3                    0.0          27.0           3.75  \n",
      "4                    0.0          27.0           4.83  \n",
      "...                  ...           ...            ...  \n",
      "34321                0.0          27.0           3.67  \n",
      "34322                0.0          27.0           4.89  \n",
      "34323                0.0          27.0           5.79  \n",
      "34324                0.0          27.0           6.41  \n",
      "34325                0.0          27.0           7.53  \n",
      "\n",
      "[34326 rows x 8 columns]\n"
     ]
    }
   ],
   "source": [
    "filepath = r\"C:\\\\Users\\\\junai\\\\Documents\\\\McMaster\\\\Food Packaging\\\\Thesis\\\\Thesis Manuscript\\\\Experiments\\\\Raw Data\\\\ML Parsed\"\n",
    "local_download_path = os.path.expanduser(filepath)\n",
    "filenames=[]\n",
    "for filename in os.listdir(local_download_path):\n",
    "    if filename.endswith('csv') :#and 'Entries' in filename:\n",
    "      filenames.append(filepath + \"\\\\\" + filename)\n",
    "\n",
    "sum = 0\n",
    "for i in range(len(filenames)):\n",
    "  print (i)\n",
    " # print(filenames[i])\n",
    "  df = transform_data(filenames[i])\n",
    "  print(len(df))\n",
    "  sum+=len(df)\n",
    " # print('# Rows in this df: '+str(len(df)))\n",
    "  #print('Total Rows so far: '+str(sum))\n",
    "\n",
    "  #display(df.head())\n",
    "\n",
    "if len(filenames)>0:\n",
    "  for i in filenames[1:]:\n",
    "    #print('File appended: '+i)\n",
    "    df= df.append(transform_data(i),ignore_index=True,sort=False)\n",
    "print(df)\n",
    "\n",
    "\n",
    "\n",
    "df.to_csv('aggregated_data.csv',index=False)"
   ]
  },
  {
   "cell_type": "code",
   "execution_count": 182,
   "id": "f046c7ab",
   "metadata": {},
   "outputs": [
    {
     "ename": "NameError",
     "evalue": "name 'transform_dattransform_data' is not defined",
     "output_type": "error",
     "traceback": [
      "\u001b[1;31m---------------------------------------------------------------------------\u001b[0m",
      "\u001b[1;31mNameError\u001b[0m                                 Traceback (most recent call last)",
      "\u001b[1;32mc:\\Users\\junai\\AppData\\Roaming\\Python\\Python39\\Scripts\\Asparagine Machine Learning\\Untitled.ipynb Cell 4\u001b[0m in \u001b[0;36m<module>\u001b[1;34m\u001b[0m\n\u001b[0;32m      <a href='vscode-notebook-cell:/c%3A/Users/junai/AppData/Roaming/Python/Python39/Scripts/Asparagine%20Machine%20Learning/Untitled.ipynb#X20sZmlsZQ%3D%3D?line=1'>2</a>\u001b[0m       \u001b[39mif\u001b[39;00m filename\u001b[39m.\u001b[39mendswith(\u001b[39m'\u001b[39m\u001b[39mcsv\u001b[39m\u001b[39m'\u001b[39m) \u001b[39mand\u001b[39;00m \u001b[39m'\u001b[39m\u001b[39mTraining\u001b[39m\u001b[39m'\u001b[39m \u001b[39min\u001b[39;00m filename:\n\u001b[0;32m      <a href='vscode-notebook-cell:/c%3A/Users/junai/AppData/Roaming/Python/Python39/Scripts/Asparagine%20Machine%20Learning/Untitled.ipynb#X20sZmlsZQ%3D%3D?line=2'>3</a>\u001b[0m             tmp \u001b[39m=\u001b[39m filepath \u001b[39m+\u001b[39m \u001b[39m\"\u001b[39m\u001b[39m\\\\\u001b[39;00m\u001b[39m\"\u001b[39m \u001b[39m+\u001b[39m filename\n\u001b[1;32m----> <a href='vscode-notebook-cell:/c%3A/Users/junai/AppData/Roaming/Python/Python39/Scripts/Asparagine%20Machine%20Learning/Untitled.ipynb#X20sZmlsZQ%3D%3D?line=4'>5</a>\u001b[0m df \u001b[39m=\u001b[39m df\u001b[39m.\u001b[39mappend(transform_dattransform_data(tmp),ignore_index\u001b[39m=\u001b[39m\u001b[39mTrue\u001b[39;00m,sort\u001b[39m=\u001b[39m\u001b[39mFalse\u001b[39;00m)\n",
      "\u001b[1;31mNameError\u001b[0m: name 'transform_dattransform_data' is not defined"
     ]
    }
   ],
   "source": [
    "for filename in os.listdir(local_download_path):\n",
    "      if filename.endswith('csv') and 'Training' in filename:\n",
    "            tmp = filepath + \"\\\\\" + filename\n",
    "\n",
    "df = df.append(transform_dattransform_data(tmp),ignore_index=True,sort=False)\n",
    "\n"
   ]
  }
 ],
 "metadata": {
  "kernelspec": {
   "display_name": "Python 3.9.1 64-bit",
   "language": "python",
   "name": "python3"
  },
  "language_info": {
   "codemirror_mode": {
    "name": "ipython",
    "version": 3
   },
   "file_extension": ".py",
   "mimetype": "text/x-python",
   "name": "python",
   "nbconvert_exporter": "python",
   "pygments_lexer": "ipython3",
   "version": "3.9.1"
  },
  "vscode": {
   "interpreter": {
    "hash": "38d5604777b095764db3d9af04f1f504aafb6d6c4fdd878aa8a69b2b09a6ca27"
   }
  }
 },
 "nbformat": 4,
 "nbformat_minor": 5
}
